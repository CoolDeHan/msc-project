{
 "cells": [
  {
   "cell_type": "markdown",
   "metadata": {},
   "source": [
    "# Imports"
   ]
  },
  {
   "cell_type": "code",
   "execution_count": 1,
   "metadata": {
    "collapsed": true
   },
   "outputs": [],
   "source": [
    "from scipy.io import loadmat"
   ]
  },
  {
   "cell_type": "code",
   "execution_count": 23,
   "metadata": {
    "collapsed": true
   },
   "outputs": [],
   "source": [
    "import numpy as np"
   ]
  },
  {
   "cell_type": "code",
   "execution_count": 18,
   "metadata": {
    "collapsed": true
   },
   "outputs": [],
   "source": [
    "from numpy import linalg as LA"
   ]
  },
  {
   "cell_type": "markdown",
   "metadata": {},
   "source": [
    "# Loading"
   ]
  },
  {
   "cell_type": "code",
   "execution_count": 6,
   "metadata": {},
   "outputs": [],
   "source": [
    "mat = loadmat('/home/raman/Projects/Outputs/Baseline100.mat')"
   ]
  },
  {
   "cell_type": "code",
   "execution_count": 11,
   "metadata": {},
   "outputs": [
    {
     "data": {
      "text/plain": [
       "(654, 240, 320, 3)"
      ]
     },
     "execution_count": 11,
     "metadata": {},
     "output_type": "execute_result"
    }
   ],
   "source": [
    "mat['Normals'].shape"
   ]
  },
  {
   "cell_type": "code",
   "execution_count": 12,
   "metadata": {},
   "outputs": [
    {
     "data": {
      "text/plain": [
       "(654, 240, 320, 3)"
      ]
     },
     "execution_count": 12,
     "metadata": {},
     "output_type": "execute_result"
    }
   ],
   "source": [
    "mat['Predictions'].shape"
   ]
  },
  {
   "cell_type": "markdown",
   "metadata": {},
   "source": [
    "# Evaluation"
   ]
  },
  {
   "cell_type": "code",
   "execution_count": 39,
   "metadata": {
    "collapsed": true
   },
   "outputs": [],
   "source": [
    "shape = mat['Normals'].shape"
   ]
  },
  {
   "cell_type": "code",
   "execution_count": 41,
   "metadata": {
    "collapsed": true
   },
   "outputs": [],
   "source": [
    "Norms = mat['Normals']"
   ]
  },
  {
   "cell_type": "code",
   "execution_count": 42,
   "metadata": {},
   "outputs": [],
   "source": [
    "Norms = np.divide(Norms,np.reshape(LA.norm(Norms,axis=3), (shape[0],shape[1],shape[2],1)))"
   ]
  },
  {
   "cell_type": "code",
   "execution_count": 46,
   "metadata": {},
   "outputs": [
    {
     "data": {
      "text/plain": [
       "array([ 0.99999988,  0.99999994,  1.        ,  1.00000012], dtype=float32)"
      ]
     },
     "execution_count": 46,
     "metadata": {},
     "output_type": "execute_result"
    }
   ],
   "source": [
    "np.unique(LA.norm(Norms,axis=3))"
   ]
  },
  {
   "cell_type": "code",
   "execution_count": 57,
   "metadata": {
    "collapsed": true
   },
   "outputs": [],
   "source": [
    "Preds = mat['Predictions']"
   ]
  },
  {
   "cell_type": "code",
   "execution_count": 58,
   "metadata": {},
   "outputs": [
    {
     "name": "stderr",
     "output_type": "stream",
     "text": [
      "/home/raman/Applications/miniconda3/lib/python3.6/site-packages/ipykernel_launcher.py:1: RuntimeWarning: invalid value encountered in true_divide\n",
      "  \"\"\"Entry point for launching an IPython kernel.\n"
     ]
    }
   ],
   "source": [
    "Preds = np.divide(Preds,np.reshape(LA.norm(Preds,axis=3), (shape[0],shape[1],shape[2],1)))"
   ]
  },
  {
   "cell_type": "code",
   "execution_count": 61,
   "metadata": {},
   "outputs": [],
   "source": [
    "Preds = np.nan_to_num(Preds)"
   ]
  },
  {
   "cell_type": "code",
   "execution_count": 62,
   "metadata": {},
   "outputs": [
    {
     "data": {
      "text/plain": [
       "array([ 0.        ,  0.99999988,  0.99999994,  1.        ,  1.00000012], dtype=float32)"
      ]
     },
     "execution_count": 62,
     "metadata": {},
     "output_type": "execute_result"
    }
   ],
   "source": [
    "np.unique(LA.norm(Preds,axis=3))"
   ]
  },
  {
   "cell_type": "code",
   "execution_count": 70,
   "metadata": {},
   "outputs": [],
   "source": [
    "Dot = np.sum(np.multiply(Norms,Preds),axis=-1)"
   ]
  },
  {
   "cell_type": "code",
   "execution_count": 72,
   "metadata": {},
   "outputs": [],
   "source": [
    "Dot = np.clip(Dot, -1,1)"
   ]
  },
  {
   "cell_type": "code",
   "execution_count": 77,
   "metadata": {},
   "outputs": [],
   "source": [
    "Err = np.rad2deg(np.arccos(Dot))"
   ]
  },
  {
   "cell_type": "code",
   "execution_count": 90,
   "metadata": {},
   "outputs": [
    {
     "data": {
      "text/plain": [
       "13.616707921028137"
      ]
     },
     "execution_count": 90,
     "metadata": {},
     "output_type": "execute_result"
    }
   ],
   "source": [
    "np.mean(np.less(Err, 11.25).astype(np.float32))*100"
   ]
  },
  {
   "cell_type": "code",
   "execution_count": 120,
   "metadata": {
    "collapsed": true
   },
   "outputs": [],
   "source": [
    "Summary = {'Mean':float(np.mean(Err)),\n",
    "          'Median':float(np.median(Err)),\n",
    "          'RMSE':float(np.sqrt(np.mean(np.power(Err,2)))),\n",
    "          '11.25':np.mean(np.less(Err, 11.25).astype(np.float32))*100,\n",
    "          '22.5':np.mean(np.less(Err, 22.5).astype(np.float32))*100,\n",
    "          '30':np.mean(np.less(Err, 30).astype(np.float32))*100,\n",
    "          '45':np.mean(np.less(Err, 45).astype(np.float32))*100}"
   ]
  },
  {
   "cell_type": "code",
   "execution_count": 121,
   "metadata": {
    "scrolled": true
   },
   "outputs": [
    {
     "data": {
      "text/plain": [
       "{'11.25': 13.616707921028137,\n",
       " '22.5': 32.186952233314514,\n",
       " '30': 43.052735924720764,\n",
       " '45': 61.372488737106323,\n",
       " 'Mean': 40.717960357666016,\n",
       " 'Median': 35.3965950012207,\n",
       " 'RMSE': 48.95259094238281}"
      ]
     },
     "execution_count": 121,
     "metadata": {},
     "output_type": "execute_result"
    }
   ],
   "source": [
    "\n",
    "Summary"
   ]
  },
  {
   "cell_type": "code",
   "execution_count": 97,
   "metadata": {
    "collapsed": true
   },
   "outputs": [],
   "source": [
    "import json"
   ]
  },
  {
   "cell_type": "code",
   "execution_count": 122,
   "metadata": {},
   "outputs": [
    {
     "data": {
      "text/plain": [
       "'{\"Mean\": 40.717960357666016, \"Median\": 35.3965950012207, \"RMSE\": 48.95259094238281, \"11.25\": 13.616707921028137, \"22.5\": 32.186952233314514, \"30\": 43.052735924720764, \"45\": 61.37248873710632}'"
      ]
     },
     "execution_count": 122,
     "metadata": {},
     "output_type": "execute_result"
    }
   ],
   "source": [
    "json.dumps(Summary)"
   ]
  },
  {
   "cell_type": "markdown",
   "metadata": {},
   "source": [
    "# Code"
   ]
  },
  {
   "cell_type": "code",
   "execution_count": 123,
   "metadata": {},
   "outputs": [
    {
     "name": "stdout",
     "output_type": "stream",
     "text": [
      "Writing ../Code/Experiments/Evaluation.py\n"
     ]
    }
   ],
   "source": [
    "%%writefile ../Code/Experiments/Evaluation.py\n",
    "# Imports\n",
    "import json\n",
    "import numpy as np\n",
    "from numpy import linalg as LA\n",
    "\n",
    "def Evaluate(ID, groundTruth, predictions):\n",
    "    shape = groundTruth.shape\n",
    "    # Normalization\n",
    "    Norms = np.divide(groundTruth,np.reshape(LA.norm(groundTruth,axis=3), (shape[0],shape[1],shape[2],1)))\n",
    "    Preds = np.divide(predictions,np.reshape(LA.norm(predictions,axis=3), (shape[0],shape[1],shape[2],1)))\n",
    "    Preds = np.nan_to_num(Preds)\n",
    "    # Dot product\n",
    "    Dot = np.sum(np.multiply(Norms,Preds),axis=-1)\n",
    "    Dot = np.clip(Dot, -1,1)\n",
    "    # Error\n",
    "    Err = np.rad2deg(np.arccos(Dot))\n",
    "    # Stats\n",
    "    Stats = {\n",
    "        'Mean':float(np.mean(Err)),\n",
    "        'Median':float(np.median(Err)),\n",
    "        'RMSE':float(np.sqrt(np.mean(np.power(Err,2)))),\n",
    "        '11.25':np.mean(np.less(Err, 11.25).astype(np.float32))*100,\n",
    "        '22.5':np.mean(np.less(Err, 22.5).astype(np.float32))*100,\n",
    "        '30':np.mean(np.less(Err, 30).astype(np.float32))*100,\n",
    "        '45':np.mean(np.less(Err, 45).astype(np.float32))*100,}\n",
    "    # Saving the results\n",
    "    with open('Experiments/Outputs/'+ ID + '.eval', 'w') as fp:\n",
    "        json.dump(Stats, fp)"
   ]
  },
  {
   "cell_type": "code",
   "execution_count": null,
   "metadata": {
    "collapsed": true
   },
   "outputs": [],
   "source": []
  }
 ],
 "metadata": {
  "kernelspec": {
   "display_name": "Python 3",
   "language": "python",
   "name": "python3"
  },
  "language_info": {
   "codemirror_mode": {
    "name": "ipython",
    "version": 3
   },
   "file_extension": ".py",
   "mimetype": "text/x-python",
   "name": "python",
   "nbconvert_exporter": "python",
   "pygments_lexer": "ipython3",
   "version": "3.6.1"
  }
 },
 "nbformat": 4,
 "nbformat_minor": 2
}
