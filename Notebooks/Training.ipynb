{
 "cells": [
  {
   "cell_type": "markdown",
   "metadata": {},
   "source": [
    "# Imports"
   ]
  },
  {
   "cell_type": "code",
   "execution_count": 1,
   "metadata": {
    "collapsed": true
   },
   "outputs": [],
   "source": [
    "import sys \n",
    "import os\n",
    "sys.path.append(os.path.join(os.getcwd(), '../Code/'))\n",
    "from LadickyDataset import *"
   ]
  },
  {
   "cell_type": "code",
   "execution_count": 11,
   "metadata": {
    "collapsed": true
   },
   "outputs": [],
   "source": [
    "import tensorflow as tf\n",
    "from keras.models import  Model, load_model\n",
    "from keras.applications.vgg16 import VGG16\n",
    "from keras.layers import Input , Flatten, Dense, Reshape, Lambda\n",
    "from keras.layers.convolutional import Conv2D"
   ]
  },
  {
   "cell_type": "code",
   "execution_count": 3,
   "metadata": {
    "collapsed": true
   },
   "outputs": [],
   "source": [
    "from math import ceil"
   ]
  },
  {
   "cell_type": "code",
   "execution_count": 4,
   "metadata": {
    "collapsed": true
   },
   "outputs": [],
   "source": [
    "from PIL import Image"
   ]
  },
  {
   "cell_type": "markdown",
   "metadata": {},
   "source": [
    "# Utility Functions"
   ]
  },
  {
   "cell_type": "code",
   "execution_count": 5,
   "metadata": {
    "collapsed": true
   },
   "outputs": [],
   "source": [
    "def show_image(npimg):\n",
    "    return Image.fromarray(npimg.astype(np.uint8))"
   ]
  },
  {
   "cell_type": "code",
   "execution_count": 6,
   "metadata": {
    "collapsed": true
   },
   "outputs": [],
   "source": [
    "def show_normals(npnorms):\n",
    "    return Image.fromarray(((npnorms+1)/2*255).astype(np.uint8))"
   ]
  },
  {
   "cell_type": "markdown",
   "metadata": {},
   "source": [
    "# Dataset"
   ]
  },
  {
   "cell_type": "code",
   "execution_count": 17,
   "metadata": {
    "collapsed": true
   },
   "outputs": [],
   "source": [
    "file = '../Data/LadickyDataset.mat'"
   ]
  },
  {
   "cell_type": "code",
   "execution_count": 18,
   "metadata": {
    "collapsed": true
   },
   "outputs": [],
   "source": [
    "dataset = LadickyDataset(file,list(range(32)))"
   ]
  },
  {
   "cell_type": "code",
   "execution_count": 20,
   "metadata": {
    "collapsed": true
   },
   "outputs": [],
   "source": [
    "batchSize = 32\n",
    "epochs = 1\n",
    "totalBatches = epochs * ceil(dataset.size/batchSize)"
   ]
  },
  {
   "cell_type": "markdown",
   "metadata": {},
   "source": [
    "# Loss Function"
   ]
  },
  {
   "cell_type": "code",
   "execution_count": 22,
   "metadata": {
    "collapsed": true
   },
   "outputs": [],
   "source": [
    "def mean_dot_product(y_true, y_pred):\n",
    "    dot = tf.einsum('ijkl,ijkl->ijk', y_true, y_pred) # Dot product\n",
    "    n = tf.cast(tf.count_nonzero(dot),tf.float32)\n",
    "    mean = tf.reduce_sum(dot) / n\n",
    "    return -1 * mean"
   ]
  },
  {
   "cell_type": "code",
   "execution_count": 14,
   "metadata": {
    "collapsed": true
   },
   "outputs": [],
   "source": [
    "imgs, norms = dataset.get_batch(3)"
   ]
  },
  {
   "cell_type": "code",
   "execution_count": 28,
   "metadata": {},
   "outputs": [
    {
     "data": {
      "text/plain": [
       "(3, 240, 320, 3)"
      ]
     },
     "execution_count": 28,
     "metadata": {},
     "output_type": "execute_result"
    }
   ],
   "source": [
    "norms.shape"
   ]
  },
  {
   "cell_type": "code",
   "execution_count": 59,
   "metadata": {
    "collapsed": true
   },
   "outputs": [],
   "source": [
    "rnd = np.random.randn(3,240,320,3) # Weights should be initialized by random samples from normal distribution \n",
    "rnd[2] = norms[2] # one third is valid data"
   ]
  },
  {
   "cell_type": "code",
   "execution_count": 60,
   "metadata": {},
   "outputs": [
    {
     "data": {
      "text/plain": [
       "-0.33510965"
      ]
     },
     "execution_count": 60,
     "metadata": {},
     "output_type": "execute_result"
    }
   ],
   "source": [
    "sess = tf.Session()\n",
    "tmp_true = tf.constant(norms)\n",
    "tmp_pred = tf.nn.l2_normalize(tf.constant(rnd, dtype=tf.float32), 3)\n",
    "mean_dot_product(tmp_true,tmp_pred).eval(session=sess)"
   ]
  },
  {
   "cell_type": "markdown",
   "metadata": {},
   "source": [
    "# Model Architecture"
   ]
  },
  {
   "cell_type": "code",
   "execution_count": 23,
   "metadata": {
    "collapsed": true
   },
   "outputs": [],
   "source": [
    "def vgg16_model():\n",
    "    # create model\n",
    "    input_tensor = Input(shape=(240, 320, 3)) \n",
    "    base_model = VGG16(input_tensor=input_tensor,weights='imagenet', include_top=False)\n",
    "    x = base_model.output\n",
    "    x = Flatten()(x)\n",
    "    x = Dense(4096, activation='relu', name='fc1')(x)\n",
    "    x = Dense(80*60*3, activation='relu', name='fc2')(x)\n",
    "    x = Reshape((60,80,3))(x)\n",
    "    x = Lambda(lambda x: tf.image.resize_bilinear(x , [240,320]) )(x)\n",
    "    pred = Lambda(lambda x: tf.nn.l2_normalize(x, 3) )(x)\n",
    "    model = Model(inputs=base_model.input, outputs=pred)\n",
    "    # Compile model\n",
    "    model.compile(loss= mean_dot_product, optimizer='sgd')\n",
    "    return model"
   ]
  },
  {
   "cell_type": "markdown",
   "metadata": {},
   "source": [
    "# Variables"
   ]
  },
  {
   "cell_type": "code",
   "execution_count": 26,
   "metadata": {
    "collapsed": true
   },
   "outputs": [],
   "source": [
    "batchSize = 4\n",
    "epochs = 1\n",
    "totalBatches = epochs * ceil(dataset.size/batchSize)\n",
    "\n",
    "model = vgg16_model()"
   ]
  },
  {
   "cell_type": "markdown",
   "metadata": {},
   "source": [
    "# Main Loop"
   ]
  },
  {
   "cell_type": "code",
   "execution_count": 29,
   "metadata": {},
   "outputs": [
    {
     "name": "stdout",
     "output_type": "stream",
     "text": [
      "Batch:0 of 8\n",
      "Batch:1 of 8\n",
      "Batch:2 of 8\n",
      "Batch:3 of 8\n",
      "Batch:4 of 8\n",
      "Batch:5 of 8\n",
      "Batch:6 of 8\n",
      "Batch:7 of 8\n"
     ]
    }
   ],
   "source": [
    "for batch in range(totalBatches):\n",
    "    print('Batch:'+str(batch+1)+' of '+str(totalBatches))\n",
    "    imgs, norms = dataset.get_batch(batchSize)\n",
    "    model.train_on_batch(imgs, norms)"
   ]
  },
  {
   "cell_type": "code",
   "execution_count": 13,
   "metadata": {
    "collapsed": true
   },
   "outputs": [],
   "source": [
    "model.save('../Data/model.h5')"
   ]
  },
  {
   "cell_type": "code",
   "execution_count": 13,
   "metadata": {
    "collapsed": true
   },
   "outputs": [],
   "source": [
    "model = load_model('../Data/model.h5', custom_objects={'mean_dot_product': mean_dot_product, 'tf':tf})"
   ]
  },
  {
   "cell_type": "code",
   "execution_count": 15,
   "metadata": {
    "collapsed": true
   },
   "outputs": [],
   "source": [
    "imgs, norms = dataset.get_batch(1)\n",
    "pred = model.predict(imgs, batch_size=1)"
   ]
  },
  {
   "cell_type": "code",
   "execution_count": 16,
   "metadata": {},
   "outputs": [
    {
     "data": {
      "text/plain": [
       "array([ 0.        ,  0.99999976,  0.99999982,  0.99999988,  0.99999994,\n",
       "        1.        ,  1.00000012], dtype=float32)"
      ]
     },
     "execution_count": 16,
     "metadata": {},
     "output_type": "execute_result"
    }
   ],
   "source": [
    "np.unique(np.linalg.norm(pred[0], axis=2))"
   ]
  },
  {
   "cell_type": "markdown",
   "metadata": {
    "collapsed": true
   },
   "source": [
    "# Code"
   ]
  },
  {
   "cell_type": "code",
   "execution_count": 2,
   "metadata": {},
   "outputs": [
    {
     "name": "stdout",
     "output_type": "stream",
     "text": [
      "Overwriting ../Code/Experiments/Training.py\n"
     ]
    }
   ],
   "source": [
    "%%writefile ../Code/Experiments/Training.py\n",
    "# Imports\n",
    "import tensorflow as tf\n",
    "from math import ceil\n",
    "from PIL import Image\n",
    "import time\n",
    "\n",
    "# Utility functions\n",
    "def show_image(npimg):\n",
    "    return Image.fromarray(npimg.astype(np.uint8))\n",
    "def show_normals(npnorms):\n",
    "    return Image.fromarray(((npnorms+1)/2*255).astype(np.uint8))\n",
    "\n",
    "# Loss function\n",
    "def mean_dot_product(y_true, y_pred):\n",
    "    '''\n",
    "    Arguments shape: (batchSize, height, width, components)\n",
    "    '''\n",
    "    dot = tf.einsum('ijkl,ijkl->ijk', y_true, y_pred) # Dot product\n",
    "    n = tf.cast(tf.count_nonzero(dot),tf.float32)\n",
    "    mean = tf.reduce_sum(dot) / n\n",
    "    return -1 * mean\n",
    "\n",
    "# Training\n",
    "def Train(ID, Dataset, model, loss, optimizer, batchSize, epochs):\n",
    "    # Load data set\n",
    "    print('Loading the data set...')\n",
    "    dataset = Dataset()\n",
    "\n",
    "    # Build model\n",
    "    print('Building the model...')\n",
    "    model = model()\n",
    "    if loss == 'mean_dot_product':\n",
    "        loss = mean_dot_product\n",
    "    model.compile(optimizer, loss)\n",
    "\n",
    "    # Parameter\n",
    "    totalBatches = ceil(dataset.size/batchSize)\n",
    "\n",
    "    # Training Loop\n",
    "    print('Training '+ID+'...')\n",
    "    for epoch in range(epochs):\n",
    "        print('------------------------------------------')\n",
    "        start = time.perf_counter()\n",
    "        for batch in range(totalBatches):\n",
    "            print('*** Epoch: '+str(epoch+1)+'/'+str(epochs) +' *** Batch: '+str(batch+1)+'/'+str(totalBatches)+' ***')\n",
    "            imgs, norms = dataset.get_batch(batchSize)\n",
    "            loss = model.train_on_batch(imgs, norms)\n",
    "            print('Loss: ' + str(loss))\n",
    "        if( (epoch+1) % 5 == 0):\n",
    "            # Saving the model\n",
    "            print('Saving the model...')\n",
    "            model.save('Experiments/Outputs/'+ ID + '.h5')\n",
    "        # Estimating the remaining time\n",
    "        end = time.perf_counter()\n",
    "        rem = divmod((epochs-epoch-1)*(end-start),60)\n",
    "        print('Remaining time: '+str(round(rem[0]))+' minute(s) and '+ str(round(rem[1]))+ ' seconds')\n"
   ]
  },
  {
   "cell_type": "code",
   "execution_count": null,
   "metadata": {
    "collapsed": true
   },
   "outputs": [],
   "source": []
  }
 ],
 "metadata": {
  "kernelspec": {
   "display_name": "Python 3",
   "language": "python",
   "name": "python3"
  },
  "language_info": {
   "codemirror_mode": {
    "name": "ipython",
    "version": 3
   },
   "file_extension": ".py",
   "mimetype": "text/x-python",
   "name": "python",
   "nbconvert_exporter": "python",
   "pygments_lexer": "ipython3",
   "version": "3.6.1"
  }
 },
 "nbformat": 4,
 "nbformat_minor": 2
}
