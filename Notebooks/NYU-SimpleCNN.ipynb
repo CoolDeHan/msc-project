{
 "cells": [
  {
   "cell_type": "code",
   "execution_count": 1,
   "metadata": {},
   "outputs": [
    {
     "name": "stderr",
     "output_type": "stream",
     "text": [
      "Using TensorFlow backend.\n"
     ]
    }
   ],
   "source": [
    "import numpy as np\n",
    "from keras.models import Sequential\n",
    "from keras.layers import Dense\n",
    "from keras.layers import Dropout\n",
    "from keras.layers import Flatten\n",
    "from keras.layers.convolutional import Conv2D\n",
    "from keras.layers.convolutional import MaxPooling2D\n",
    "from keras.utils import np_utils"
   ]
  },
  {
   "cell_type": "code",
   "execution_count": 3,
   "metadata": {},
   "outputs": [],
   "source": [
    "# fix random seed for reproducibility\n",
    "seed = 7\n",
    "np.random.seed(seed)"
   ]
  },
  {
   "cell_type": "code",
   "execution_count": 29,
   "metadata": {
    "collapsed": true
   },
   "outputs": [],
   "source": [
    "from PIL import Image"
   ]
  },
  {
   "cell_type": "code",
   "execution_count": 5,
   "metadata": {},
   "outputs": [],
   "source": [
    "x_train = Image.open('NYU0551.jpg')"
   ]
  },
  {
   "cell_type": "code",
   "execution_count": 5,
   "metadata": {},
   "outputs": [],
   "source": [
    "#x_train = x_train.resize((320, 240), Image.BICUBIC)"
   ]
  },
  {
   "cell_type": "code",
   "execution_count": 11,
   "metadata": {},
   "outputs": [],
   "source": [
    "x_train = np.asarray(x_train).reshape((1, 561, 427, 3))"
   ]
  },
  {
   "cell_type": "code",
   "execution_count": 13,
   "metadata": {
    "collapsed": true
   },
   "outputs": [],
   "source": [
    "import h5py"
   ]
  },
  {
   "cell_type": "code",
   "execution_count": 24,
   "metadata": {
    "collapsed": true
   },
   "outputs": [],
   "source": [
    "y_train = h5py.File('NYU0551.mat')"
   ]
  },
  {
   "cell_type": "code",
   "execution_count": 25,
   "metadata": {},
   "outputs": [],
   "source": [
    "y_train = np.asarray(y_train['normals']).reshape((1,561,427,3))"
   ]
  },
  {
   "cell_type": "raw",
   "metadata": {
    "collapsed": true
   },
   "source": [
    "# reshape to be [samples][pixels][width][height]\n",
    "x_train = x_train.reshape(x_train.shape[0], 3, 32, 32).astype('float32')\n",
    "x_test = x_test.reshape(x_test.shape[0], 3, 32, 32).astype('float32')"
   ]
  },
  {
   "cell_type": "raw",
   "metadata": {
    "collapsed": true
   },
   "source": [
    "# normalize inputs from 0-255 to 0-1\n",
    "x_train = x_train / 255\n",
    "x_test = x_test / 255\n",
    "# one hot encode outputs\n",
    "y_train = np_utils.to_categorical(y_train)\n",
    "y_test = np_utils.to_categorical(y_test)\n",
    "num_classes = y_test.shape[1]"
   ]
  },
  {
   "cell_type": "code",
   "execution_count": 31,
   "metadata": {},
   "outputs": [],
   "source": [
    "x_train = x_train / 255"
   ]
  },
  {
   "cell_type": "code",
   "execution_count": 17,
   "metadata": {
    "collapsed": true
   },
   "outputs": [],
   "source": [
    "def baseline_model():\n",
    "\t# create model\n",
    "\tmodel = Sequential()\n",
    "\tmodel.add(Conv2D(64, (3, 3), input_shape=(561,427,3), activation='relu', padding='same'))\n",
    "    model.add(Conv2D(64, (3, 3), activation='relu', padding='same'))\n",
    "\tmodel.add(MaxPooling2D(pool_size=(2, 2)))\n",
    "    model.add(Conv2D(512, (3, 3), activation='relu', padding='same'))\n",
    "    model.add(Conv2D(512, (3, 3), activation='relu', padding='same'))\n",
    "\tmodel.add(Flatten())\n",
    "\tmodel.add(Dense(4096, activation='relu'))\n",
    "\tmodel.add(Dense(num_classes, activation='softmax'))\n",
    "\t# Compile model\n",
    "\tmodel.compile(loss='categorical_crossentropy', optimizer='adam', metrics=['accuracy'])\n",
    "\treturn model"
   ]
  },
  {
   "cell_type": "code",
   "execution_count": 19,
   "metadata": {},
   "outputs": [
    {
     "name": "stdout",
     "output_type": "stream",
     "text": [
      "Train on 50000 samples, validate on 10000 samples\n",
      "Epoch 1/10\n",
      "18s - loss: 1.4660 - acc: 0.4786 - val_loss: 1.2456 - val_acc: 0.5571\n",
      "Epoch 2/10\n",
      "17s - loss: 1.1747 - acc: 0.5891 - val_loss: 1.1421 - val_acc: 0.6037\n",
      "Epoch 3/10\n",
      "17s - loss: 1.0459 - acc: 0.6340 - val_loss: 1.1512 - val_acc: 0.6046\n",
      "Epoch 4/10\n",
      "17s - loss: 0.9530 - acc: 0.6659 - val_loss: 1.1039 - val_acc: 0.6240\n",
      "Epoch 5/10\n",
      "17s - loss: 0.8737 - acc: 0.6954 - val_loss: 1.1119 - val_acc: 0.6202\n",
      "Epoch 6/10\n",
      "17s - loss: 0.8030 - acc: 0.7177 - val_loss: 1.1079 - val_acc: 0.6316\n",
      "Epoch 7/10\n",
      "17s - loss: 0.7494 - acc: 0.7361 - val_loss: 1.1626 - val_acc: 0.6323\n",
      "Epoch 8/10\n",
      "17s - loss: 0.6961 - acc: 0.7556 - val_loss: 1.1752 - val_acc: 0.6366\n",
      "Epoch 9/10\n",
      "17s - loss: 0.6401 - acc: 0.7760 - val_loss: 1.2715 - val_acc: 0.6155\n",
      "Epoch 10/10\n",
      "17s - loss: 0.5976 - acc: 0.7907 - val_loss: 1.2751 - val_acc: 0.6251\n",
      "Baseline Error: 37.49%\n"
     ]
    }
   ],
   "source": [
    "# build the model\n",
    "model = baseline_model()\n",
    "# Fit the model\n",
    "model.fit(x_train, y_train, validation_data=(x_test, y_test), epochs=10, batch_size=10, verbose=2)\n",
    "# Final evaluation of the model\n",
    "scores = model.evaluate(x_test, y_test, verbose=0)\n",
    "print(\"Baseline Error: %.2f%%\" % (100-scores[1]*100))"
   ]
  },
  {
   "cell_type": "code",
   "execution_count": null,
   "metadata": {
    "collapsed": true
   },
   "outputs": [],
   "source": []
  }
 ],
 "metadata": {
  "kernelspec": {
   "display_name": "Python 3",
   "language": "python",
   "name": "python3"
  },
  "language_info": {
   "codemirror_mode": {
    "name": "ipython",
    "version": 3
   },
   "file_extension": ".py",
   "mimetype": "text/x-python",
   "name": "python",
   "nbconvert_exporter": "python",
   "pygments_lexer": "ipython3",
   "version": "3.6.1"
  }
 },
 "nbformat": 4,
 "nbformat_minor": 2
}
