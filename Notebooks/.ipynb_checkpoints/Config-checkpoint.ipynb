{
 "cells": [
  {
   "cell_type": "code",
   "execution_count": 1,
   "metadata": {
    "collapsed": true
   },
   "outputs": [],
   "source": [
    "import configparser"
   ]
  },
  {
   "cell_type": "code",
   "execution_count": 2,
   "metadata": {
    "collapsed": true
   },
   "outputs": [],
   "source": [
    "config = configparser.ConfigParser()"
   ]
  },
  {
   "cell_type": "code",
   "execution_count": 3,
   "metadata": {
    "collapsed": true
   },
   "outputs": [],
   "source": [
    "config['TRAINING']= {\n",
    "    'ImportModel' : 'from ..Code import Baseline',\n",
    "    'CreateModel' : 'Baseline()',\n",
    "    'ImportDataset' : 'from ..Code import Ladicky',\n",
    "    'CreateDataset' : 'Ladicky()',\n",
    "    'BatchSize' : '32',\n",
    "    'Epochs' : '10',\n",
    "}"
   ]
  },
  {
   "cell_type": "code",
   "execution_count": 4,
   "metadata": {
    "collapsed": true
   },
   "outputs": [],
   "source": [
    "config['PREDICTION']= {\n",
    "    'Import' : 'from ..Code import Baseline',\n",
    "    'LoadModel' : \"load_model('../Data/model.h5', custom_objects={'mean_dot_product': mean_dot_product, 'tf':tf})\",\n",
    "    'ImportDataset' : 'from ..Code import Ladicky',\n",
    "    'CreateDataset' : 'Ladicky()',\n",
    "}"
   ]
  },
  {
   "cell_type": "code",
   "execution_count": 5,
   "metadata": {
    "collapsed": true
   },
   "outputs": [],
   "source": [
    "with open('../Experiments/Template.ini', 'w') as configfile:\n",
    "    config.write(configfile)"
   ]
  },
  {
   "cell_type": "code",
   "execution_count": null,
   "metadata": {
    "collapsed": true
   },
   "outputs": [],
   "source": []
  }
 ],
 "metadata": {
  "kernelspec": {
   "display_name": "Python 3",
   "language": "python",
   "name": "python3"
  },
  "language_info": {
   "codemirror_mode": {
    "name": "ipython",
    "version": 3
   },
   "file_extension": ".py",
   "mimetype": "text/x-python",
   "name": "python",
   "nbconvert_exporter": "python",
   "pygments_lexer": "ipython3",
   "version": "3.6.1"
  }
 },
 "nbformat": 4,
 "nbformat_minor": 2
}
