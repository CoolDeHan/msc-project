{
 "cells": [
  {
   "cell_type": "markdown",
   "metadata": {},
   "source": [
    "# Imports"
   ]
  },
  {
   "cell_type": "code",
   "execution_count": 1,
   "metadata": {
    "collapsed": true
   },
   "outputs": [],
   "source": [
    "import sys \n",
    "import os\n",
    "sys.path.append(os.path.join(os.getcwd(), '../Code/'))\n",
    "from LadickyDataset import *"
   ]
  },
  {
   "cell_type": "code",
   "execution_count": 2,
   "metadata": {},
   "outputs": [
    {
     "name": "stderr",
     "output_type": "stream",
     "text": [
      "Using TensorFlow backend.\n"
     ]
    }
   ],
   "source": [
    "import tensorflow as tf\n",
    "from keras.models import  Model\n",
    "from keras.applications.vgg16 import VGG16\n",
    "from keras.layers import Input , Flatten, Dense, Reshape, Lambda\n",
    "from keras.layers.convolutional import Conv2D"
   ]
  },
  {
   "cell_type": "code",
   "execution_count": 3,
   "metadata": {
    "collapsed": true
   },
   "outputs": [],
   "source": [
    "from math import ceil"
   ]
  },
  {
   "cell_type": "code",
   "execution_count": 4,
   "metadata": {
    "collapsed": true
   },
   "outputs": [],
   "source": [
    "from PIL import Image"
   ]
  },
  {
   "cell_type": "markdown",
   "metadata": {},
   "source": [
    "# Utility Functions"
   ]
  },
  {
   "cell_type": "code",
   "execution_count": 5,
   "metadata": {
    "collapsed": true
   },
   "outputs": [],
   "source": [
    "def show_image(npimg):\n",
    "    return Image.fromarray(npimg.astype(np.uint8))"
   ]
  },
  {
   "cell_type": "code",
   "execution_count": 6,
   "metadata": {
    "collapsed": true
   },
   "outputs": [],
   "source": [
    "def show_normals(npnorms):\n",
    "    return Image.fromarray(((npnorms+1)/2*255).astype(np.uint8))"
   ]
  },
  {
   "cell_type": "markdown",
   "metadata": {},
   "source": [
    "# Dataset"
   ]
  },
  {
   "cell_type": "code",
   "execution_count": 7,
   "metadata": {
    "collapsed": true
   },
   "outputs": [],
   "source": [
    "file = '../Data/LadickyDataset10.mat'"
   ]
  },
  {
   "cell_type": "code",
   "execution_count": 8,
   "metadata": {
    "collapsed": true
   },
   "outputs": [],
   "source": [
    "dataset = LadickyDataset(file)"
   ]
  },
  {
   "cell_type": "markdown",
   "metadata": {},
   "source": [
    "# Loss Function"
   ]
  },
  {
   "cell_type": "code",
   "execution_count": 9,
   "metadata": {
    "collapsed": true
   },
   "outputs": [],
   "source": [
    "def mean_dot_product(y_true, y_pred):\n",
    "    dot = tf.einsum('ijkl,ijkl->ijk', y_true, y_pred) # Dot product\n",
    "    n = tf.cast(tf.count_nonzero(dot),tf.float32)\n",
    "    mean = tf.reduce_sum(dot) / n\n",
    "    return -1 * mean"
   ]
  },
  {
   "cell_type": "code",
   "execution_count": 14,
   "metadata": {
    "collapsed": true
   },
   "outputs": [],
   "source": [
    "imgs, norms = dataset.get_batch(3)"
   ]
  },
  {
   "cell_type": "code",
   "execution_count": 28,
   "metadata": {},
   "outputs": [
    {
     "data": {
      "text/plain": [
       "(3, 240, 320, 3)"
      ]
     },
     "execution_count": 28,
     "metadata": {},
     "output_type": "execute_result"
    }
   ],
   "source": [
    "norms.shape"
   ]
  },
  {
   "cell_type": "code",
   "execution_count": 59,
   "metadata": {
    "collapsed": true
   },
   "outputs": [],
   "source": [
    "rnd = np.random.randn(3,240,320,3) # Weights should be initialized by random samples from normal distribution \n",
    "rnd[2] = norms[2] # one third is valid data"
   ]
  },
  {
   "cell_type": "code",
   "execution_count": 60,
   "metadata": {},
   "outputs": [
    {
     "data": {
      "text/plain": [
       "-0.33510965"
      ]
     },
     "execution_count": 60,
     "metadata": {},
     "output_type": "execute_result"
    }
   ],
   "source": [
    "sess = tf.Session()\n",
    "tmp_true = tf.constant(norms)\n",
    "tmp_pred = tf.nn.l2_normalize(tf.constant(rnd, dtype=tf.float32), 3)\n",
    "mean_dot_product(tmp_true,tmp_pred).eval(session=sess)"
   ]
  },
  {
   "cell_type": "markdown",
   "metadata": {},
   "source": [
    "# Model Architecture"
   ]
  },
  {
   "cell_type": "code",
   "execution_count": 10,
   "metadata": {
    "collapsed": true
   },
   "outputs": [],
   "source": [
    "def vgg16_model():\n",
    "    # create model\n",
    "    input_tensor = Input(shape=(240, 320, 3)) \n",
    "    base_model = VGG16(input_tensor=input_tensor,weights='imagenet', include_top=False)\n",
    "    x = base_model.output\n",
    "    x = Flatten()(x)\n",
    "    x = Dense(4096, activation='relu', name='fc1')(x)\n",
    "    x = Dense(80*60*3, activation='relu', name='fc2')(x)\n",
    "    x = Reshape((60,80,3))(x)\n",
    "    x = Lambda(lambda x: tf.image.resize_bilinear(x , [240,320]) )(x)\n",
    "    pred = Lambda(lambda x: tf.nn.l2_normalize(x, 3) )(x)\n",
    "    model = Model(inputs=base_model.input, outputs=pred)\n",
    "    # Compile model\n",
    "    model.compile(loss= mean_dot_product, optimizer='sgd')\n",
    "    return model"
   ]
  },
  {
   "cell_type": "markdown",
   "metadata": {},
   "source": [
    "# Variables"
   ]
  },
  {
   "cell_type": "code",
   "execution_count": 11,
   "metadata": {
    "collapsed": true
   },
   "outputs": [],
   "source": [
    "batchSize = 5\n",
    "epochs = 1\n",
    "totalBatches = epochs * ceil(dataset.size/batchSize)\n",
    "\n",
    "model = vgg16_model()"
   ]
  },
  {
   "cell_type": "markdown",
   "metadata": {},
   "source": [
    "# Main Loop"
   ]
  },
  {
   "cell_type": "code",
   "execution_count": 12,
   "metadata": {},
   "outputs": [
    {
     "name": "stdout",
     "output_type": "stream",
     "text": [
      "Epoch 1/1\n",
      "5/5 [==============================] - 11s - loss: -0.4554\n",
      "Epoch 1/1\n",
      "5/5 [==============================] - 9s - loss: -0.3060\n"
     ]
    }
   ],
   "source": [
    "for batch in range(totalBatches):\n",
    "    imgs, norms = dataset.get_batch(batchSize)\n",
    "    model.fit(imgs, norms, batch_size=batchSize, epochs=1)"
   ]
  },
  {
   "cell_type": "code",
   "execution_count": 13,
   "metadata": {
    "collapsed": true
   },
   "outputs": [],
   "source": [
    "pred = model.predict(imgs, batch_size=1)"
   ]
  },
  {
   "cell_type": "code",
   "execution_count": 14,
   "metadata": {},
   "outputs": [
    {
     "data": {
      "text/plain": [
       "array([ 0.        ,  0.99999976,  0.99999982,  0.99999988,  0.99999994,\n",
       "        1.        ,  1.00000012], dtype=float32)"
      ]
     },
     "execution_count": 14,
     "metadata": {},
     "output_type": "execute_result"
    }
   ],
   "source": [
    "np.unique(np.linalg.norm(pred[0], axis=2))"
   ]
  },
  {
   "cell_type": "markdown",
   "metadata": {
    "collapsed": true
   },
   "source": [
    "# Code"
   ]
  },
  {
   "cell_type": "code",
   "execution_count": 5,
   "metadata": {},
   "outputs": [
    {
     "name": "stdout",
     "output_type": "stream",
     "text": [
      "Overwriting ../Code/Training.py\n"
     ]
    }
   ],
   "source": [
    "%%writefile ../Code/Training.py\n",
    "import sys \n",
    "import os\n",
    "sys.path.append(os.path.join(os.getcwd(), '../Code/'))\n",
    "from LadickyDataset import *\n",
    "\n",
    "import tensorflow as tf\n",
    "from keras.models import  Model\n",
    "from keras.applications.vgg16 import VGG16\n",
    "from keras.layers import Input , Flatten, Dense, Reshape, Lambda\n",
    "from keras.layers.convolutional import Conv2D\n",
    "\n",
    "from math import ceil\n",
    "from PIL import Image\n",
    "\n",
    "def show_image(npimg):\n",
    "    return Image.fromarray(npimg.astype(np.uint8))\n",
    "def show_normals(npnorms):\n",
    "    return Image.fromarray(((npnorms+1)/2*255).astype(np.uint8))\n",
    "\n",
    "def mean_dot_product(y_true, y_pred):\n",
    "    dot = tf.einsum('ijkl,ijkl->ijk', y_true, y_pred) # Dot product\n",
    "    n = tf.cast(tf.count_nonzero(dot),tf.float32)\n",
    "    mean = tf.reduce_sum(dot) / n\n",
    "    return -1 * mean\n",
    "\n",
    "def vgg16_model():\n",
    "    # create model\n",
    "    input_tensor = Input(shape=(240, 320, 3)) \n",
    "    base_model = VGG16(input_tensor=input_tensor,weights='imagenet', include_top=False)\n",
    "    x = base_model.output\n",
    "    x = Flatten()(x)\n",
    "    x = Dense(4096, activation='relu', name='fc1')(x)\n",
    "    x = Dense(80*60*3, activation='relu', name='fc2')(x)\n",
    "    x = Reshape((60,80,3))(x)\n",
    "    x = Lambda(lambda x: tf.image.resize_bilinear(x , [240,320]) )(x)\n",
    "    pred = Lambda(lambda x: tf.nn.l2_normalize(x, 3) )(x)\n",
    "    model = Model(inputs=base_model.input, outputs=pred)\n",
    "    # Compile model\n",
    "    model.compile(loss= mean_dot_product, optimizer='sgd')\n",
    "    return model\n",
    "\n",
    "file = '../Data/LadickyDataset.mat'\n",
    "dataset = LadickyDataset(file)\n",
    "model = vgg16_model()\n",
    "\n",
    "batchSize = 32\n",
    "epochs = 1\n",
    "totalBatches = epochs * ceil(dataset.size/batchSize)\n",
    "\n",
    "for batch in range(totalBatches):\n",
    "    imgs, norms = dataset.get_batch(batchSize)\n",
    "    model.fit(imgs, norms, batch_size=batchSize, epochs=1)"
   ]
  },
  {
   "cell_type": "code",
   "execution_count": null,
   "metadata": {
    "collapsed": true
   },
   "outputs": [],
   "source": []
  }
 ],
 "metadata": {
  "kernelspec": {
   "display_name": "Python 3",
   "language": "python",
   "name": "python3"
  },
  "language_info": {
   "codemirror_mode": {
    "name": "ipython",
    "version": 3
   },
   "file_extension": ".py",
   "mimetype": "text/x-python",
   "name": "python",
   "nbconvert_exporter": "python",
   "pygments_lexer": "ipython3",
   "version": "3.6.1"
  }
 },
 "nbformat": 4,
 "nbformat_minor": 2
}
